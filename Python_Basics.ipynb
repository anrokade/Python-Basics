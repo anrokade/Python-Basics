{
 "cells": [
  {
   "cell_type": "markdown",
   "id": "85695279",
   "metadata": {},
   "source": [
    "# Python Basics Questions"
   ]
  },
  {
   "cell_type": "markdown",
   "id": "0069dab5",
   "metadata": {},
   "source": [
    "### 1) What is Python, and why is it popular \n",
    "\n",
    "  - Python is a high-level, interpreted programming language known for its simplicity, readability, and versatility. It was created by Guido van Rossum and first released in 1991.\n",
    "\n",
    "Why Python Is Popular:\n",
    "1) Easy to Learn and Use: Python has a clear and readable syntax, making it beginner-friendly and suitable for rapid development.\n",
    "\n",
    "2) Versatile Applications: It's used in web development, data analysis, artificial intelligence, machine learning, automation, scientific computing, game development, and more.\n",
    "\n",
    "3) Large Community & Ecosystem: A massive user base contributes to thousands of open-source libraries (like NumPy, pandas, TensorFlow, Django), making it easier to build powerful applications quickly.\n",
    "\n",
    "4) Cross-Platform: Python code runs on all major operating systems (Windows, macOS, Linux) without modification.\n",
    "\n",
    "5) Strong Support for Integration: It works well with other languages like C/C++ and tools like SQL, Hadoop, and cloud services.\n",
    "\n",
    "6) Backed by Industry: Major companies like Google, Netflix, Instagram, and NASA use Python in production."
   ]
  },
  {
   "cell_type": "markdown",
   "id": "69a3638e",
   "metadata": {},
   "source": [
    "### 2) What is an interpreter in Python \n",
    "  - In Python, an interpreter is a program that reads and executes Python code line by line. Unlike compiled languages (like C or Java, which are translated into machine code before running), Python code is interpreted directly, meaning it runs as it's read.\n",
    "\n",
    "What the Interpreter Does:\n",
    "1) Reads your .py script or commands.\n",
    "\n",
    "2) Parses the code into bytecode.\n",
    "\n",
    "3) Executes the bytecode using the Python Virtual Machine (PVM).\n",
    "\n",
    "Benefits of an Interpreter:\n",
    "1) Faster development: No need to compile before running.\n",
    "\n",
    "2) Easier debugging: Errors are caught as they occur, line by line.\n",
    "\n",
    "3) Interactive mode: We can test code in real-time using the Python shell or tools like Jupyter Notebook."
   ]
  },
  {
   "cell_type": "markdown",
   "id": "ca25273e",
   "metadata": {},
   "source": [
    "### 3) What are pre-defined keywords in Python \n",
    "\n",
    "Pre-defined keywords in Python are reserved words that have special meaning and purpose in the language. We cannot use them as variable names or identifiers because they are part of Python's syntax.\n",
    "\n",
    "Examples of Python Keywords:\n",
    "\n",
    "1) Control Flow -\tif, else, elif, while, for, break, continue, pass\n",
    "\n",
    "2) Boolean/Logic -\tTrue, False, None, and, or, not, is, in\n",
    "\n",
    "3) Functions -\tdef, return, lambda, yield\n",
    "\n",
    "4) Classes/OOP -\tclass, self, super, __init__\n",
    "\n",
    "5) Exception Handling -\ttry, except, finally, raise, assert\n",
    "\n",
    "6) Imports -\timport, from, as\n",
    "\n",
    "7) Others -\twith, global, nonlocal, del"
   ]
  },
  {
   "cell_type": "markdown",
   "id": "0b5ba8bc",
   "metadata": {},
   "source": [
    "### 4) Can keywords be used as variable names \n",
    "\n",
    "No, keywords cannot be used as variable names in Python.\n",
    "\n",
    "Keywords are reserved words that are part of the language's syntax, and using them as variable names will result in a syntax error because Python won’t be able to understand whether we're referring to the keyword's function or our variable."
   ]
  },
  {
   "cell_type": "markdown",
   "id": "d229d770",
   "metadata": {},
   "source": [
    "### 5) What is mutability in Python "
   ]
  },
  {
   "cell_type": "markdown",
   "id": "9178a1db",
   "metadata": {},
   "source": [
    "In Python, mutability refers to whether or not an object’s value can be changed after it is created.\n",
    "\n",
    "\n",
    "1) Mutable objects: Their contents can be changed in place.\n",
    "\n",
    "Examples: list, dict, set, bytearray\n",
    "\n",
    "2) Immutable objects: Their contents cannot be changed once created.\n",
    "\n",
    "Examples: int, float, str, tuple, frozenset, bytes"
   ]
  },
  {
   "cell_type": "markdown",
   "id": "208d1c2a",
   "metadata": {},
   "source": [
    "### 6) Why are lists mutable, but tuples are immutable ?"
   ]
  },
  {
   "cell_type": "markdown",
   "id": "b19ff7c2",
   "metadata": {},
   "source": [
    "1. Lists are mutable because:\n",
    "Use Case: Lists are meant to store collections of items that may change (e.g., growing/shrinking a list, updating values).\n",
    "\n",
    "Flexibility: You can add, remove, or change elements as needed.\n",
    "\n",
    "Implementation: Internally, lists are implemented to allow resizing and in-place modification.\n",
    "\n",
    "2. Tuples are immutable because:\n",
    "Use Case: Tuples are designed to represent fixed collections (e.g., coordinates, configuration values, dictionary keys).\n",
    "\n",
    "Safety: Immutability ensures data won’t be accidentally changed — useful in multi-threading or when using them as dictionary keys.\n",
    "\n",
    "Performance: Tuples can be optimized more heavily by Python (e.g., faster iteration, caching)."
   ]
  },
  {
   "cell_type": "markdown",
   "id": "cba15ecb",
   "metadata": {},
   "source": [
    "### 7) What is the difference between “==” and “is” operators in Python "
   ]
  },
  {
   "cell_type": "markdown",
   "id": "a8c7e3b3",
   "metadata": {},
   "source": [
    "1)  \"==\" (Equality Operator)\n",
    "Checks if two objects have the same value.\n",
    "\n",
    "It compares the contents of the objects.\n",
    "\n",
    "a = [10, 20, 30]\n",
    "\n",
    "b = [10, 20, 30]\n",
    "\n",
    "print(a == b)  True — values are equal\n",
    "\n",
    "2) \"is\" (Identity Operator)\n",
    "Checks if two variables point to the exact same object in memory.\n",
    "\n",
    "It compares identity, not content.\n",
    "\n",
    "x = [1, 2]\n",
    "\n",
    "y = [1, 2]\n",
    "\n",
    "z = x\n",
    "\n",
    "print(x is y)  # False: different objects\n",
    "\n",
    "print(x is z)  # True: same object (z is a reference to x)\n",
    "\n"
   ]
  },
  {
   "cell_type": "markdown",
   "id": "6d768429",
   "metadata": {},
   "source": [
    "### 8) What are logical operators in Python "
   ]
  },
  {
   "cell_type": "markdown",
   "id": "62534c15",
   "metadata": {},
   "source": [
    "In Python, logical operators are used to combine or modify boolean expressions (expressions that evaluate to True or False).\n",
    "\n",
    "Logical AND\tReturns True if both operands are True\n",
    "\n",
    "Logical OR\tReturns True if at least one operand is True\n",
    "\n",
    "Logical NOT\tReturns True if the operand is False, "
   ]
  },
  {
   "cell_type": "markdown",
   "id": "36b9ede2",
   "metadata": {},
   "source": [
    "### 9) What is type casting in Python "
   ]
  },
  {
   "cell_type": "markdown",
   "id": "056cc889",
   "metadata": {},
   "source": [
    "Type casting in Python means converting a value from one data type to another, either explicitly or implicitly.\n",
    "\n",
    "1. Explicit Type Casting (Manual)\n",
    "\n",
    "We use built-in functions to convert types:\n",
    "\n",
    "Function Converts To\n",
    "-------------------------------\n",
    "1) int()\t    Integer\n",
    "\n",
    "2) float()\t    Floating point\n",
    "\n",
    "3) str()\t    String\n",
    "\n",
    "4) bool()\t    Boolean\n",
    "\n",
    "5) list(),      tuple(), set()\tCollection types\n",
    "\n",
    "Example:\n",
    "\n",
    "x = \"234\"\n",
    "\n",
    "y = int(x)       # '234' (str) → 234 (int)\n",
    "\n",
    "print(y + 1)     # 234\n",
    "\n",
    "\n",
    "2. Implicit Type Casting (Automatic)\n",
    "Python automatically converts types when necessary:\n",
    "\n",
    "a = 7       # int\n",
    "\n",
    "b = 2.0     # float\n",
    "\n",
    "c = a + b   # int + float → float\n",
    "\n",
    "print(c)    # 9.0\n",
    "\n"
   ]
  },
  {
   "cell_type": "markdown",
   "id": "28cc82fe",
   "metadata": {},
   "source": [
    "### 10) What is the difference between implicit and explicit type casting "
   ]
  },
  {
   "cell_type": "markdown",
   "id": "3def9dc1",
   "metadata": {},
   "source": [
    "1) Implicit Type Casting\n",
    " \n",
    "- Automatically performed by the Python interpreter\n",
    "\n",
    "- Happens when mixing different data types in expressions\n",
    "\n",
    "- Safer, but limited to non-lossy conversions\n",
    "\n",
    "example :\n",
    "\n",
    "\n",
    "x = 4 ---->           int\n",
    "\n",
    "y = 2.0  ---->       float\n",
    "\n",
    "z = x + y ---->      x is implicitly converted to float\n",
    "\n",
    "print(z)  ---->      Output: 6.0 (float)\n",
    "\n",
    "\n",
    "\n",
    "2) Explicit Type Casting (Type Conversion)\n",
    "\n",
    "\n",
    "- Manually performed by the programmer\n",
    "\n",
    "- Uses built-in functions like int(), float(), str(), etc.\n",
    "\n",
    "- Used when you want to control or force the conversion\n",
    "\n",
    "example :\n",
    "\n",
    "a = \"5\"\n",
    "\n",
    "b = int(a) --->    Explicit cast from string to int\n",
    "\n",
    "print(b + 5) --->  Output: 10\n",
    "\n"
   ]
  },
  {
   "cell_type": "markdown",
   "id": "5df61597",
   "metadata": {},
   "source": [
    "### 11) What is the purpose of conditional statements in Python "
   ]
  },
  {
   "cell_type": "markdown",
   "id": "2a4c87b3",
   "metadata": {},
   "source": [
    "The purpose of conditional statements in Python is to control the flow of a program based on certain conditions.\n",
    "\n",
    "They allow your code to make decisions, so different blocks of code can run depending on whether a condition is True or False.\n",
    "\n",
    "Common Conditional Statements:\n",
    "\n",
    "if – executes a block if the condition is true.\n",
    "\n",
    "elif – checks another condition if the previous if was false.\n",
    "\n",
    "else – runs if none of the previous conditions are true.\n",
    "\n",
    "\n",
    "Purpose :\n",
    "\n",
    "- Direct program logic based on conditions\n",
    "\n",
    "- Handle different inputs or situations dynamically\n",
    "\n",
    "- Avoid redundant code by choosing paths only when needed"
   ]
  },
  {
   "cell_type": "markdown",
   "id": "0475802c",
   "metadata": {},
   "source": [
    "### 12) How does the elif statement work "
   ]
  },
  {
   "cell_type": "markdown",
   "id": "b26129c1",
   "metadata": {},
   "source": [
    "The elif* statement in Python is used to chain multiple conditional checks after an initial if statement. It allows you to test additional conditions sequentially if the previous ones are False. Here's how it works:\n",
    "\n",
    "structure  of elif\n",
    "\n",
    "if condition1:\n",
    "\n",
    "    # Execute if condition1 is True\n",
    "    \n",
    "elif condition2:\n",
    "\n",
    "    # Execute if condition1 is False AND condition2 is True\n",
    "    \n",
    "elif condition3:\n",
    "\n",
    "    # Execute if all previous conditions are False AND condition3 is True\n",
    "    \n",
    "else:\n",
    "\n",
    "    # Execute if all conditions above are False\n",
    "\n",
    "score = 85\n",
    "\n",
    "if score >= 90:\n",
    "\n",
    "    print(\"Grade: A\")\n",
    "    \n",
    "elif score >= 80:  # Checked only if score < 90\n",
    "\n",
    "    print(\"Grade: B\")  # This runs (85 >= 80)\n",
    "    \n",
    "elif score >= 70:  # Skipped because previous elif was True\n",
    "\n",
    "    print(\"Grade: C\")\n",
    "    \n",
    "else:\n",
    "    print(\"Grade: D\")\n",
    "    \n",
    "\n",
    "Output:\n",
    "\n",
    "Grade: B\n",
    "\n",
    "---\n",
    "\n",
    "How It Works Step-by-Step:\n",
    "\n",
    "1. Check if score >= 90: \n",
    "\n",
    "   - 85 >= 90 → False → Move to elif.\n",
    "\n",
    "2. Check elif score >= 80:  \n",
    "\n",
    "   - 85 >= 80 → True → Execute this block → Print \"Grade: B\".  \n",
    "   \n",
    "   - All subsequent elif/else blocks are skipped.\n",
    "\n",
    "---\n",
    "\n",
    "When to Use elif\n",
    "\n",
    "- When you have *multiple mutually exclusive conditions* (only one should execute).  \n",
    "\n",
    "- To avoid deeply nested if-else structures.  \n",
    "\n",
    "- To improve readability for sequential checks."
   ]
  },
  {
   "cell_type": "markdown",
   "id": "0fa38f4e",
   "metadata": {},
   "source": [
    "### 13)  What is the difference between for and while loops "
   ]
  },
  {
   "cell_type": "markdown",
   "id": "9f428884",
   "metadata": {},
   "source": [
    "In Python, for and while loops are used for iteration, but they serve different purposes and have distinct use cases. Here's a breakdown of their key differences:\n",
    "\n",
    "1) for Loop\n",
    "\n",
    "- Used when you know in advance how many times to loop\n",
    "\n",
    "- Often used to loop through a sequence (like a list, string, or range)\n",
    "\n",
    "- Risk of infinite loop Lower\n",
    "\n",
    "\n",
    "example :\n",
    "\n",
    "for i in range(5):\n",
    "\n",
    "    print(i)\n",
    "\n",
    "Prints numbers 0 to 4.\n",
    "\n",
    "2) while Loop\n",
    "\n",
    "- Used when you don’t know exactly how many times to loop\n",
    "\n",
    "- Repeats as long as a condition is true\n",
    "\n",
    "- Risk of infinite loop\tHigher if condition never becomes false\n",
    "\n",
    "example :\n",
    "\n",
    "i = 0\n",
    "\n",
    "while i < 5:\n",
    "\n",
    "    print(i)\n",
    "    \n",
    "    i += 1\n",
    "    \n",
    "Output will be 0-4\n",
    "\n",
    "\n"
   ]
  },
  {
   "cell_type": "markdown",
   "id": "ad4cbd28",
   "metadata": {},
   "source": [
    "### 14) Describe a scenario where a while loop is more suitable than a for loop."
   ]
  },
  {
   "cell_type": "markdown",
   "id": "7b97150e",
   "metadata": {},
   "source": [
    "A while loop is more suitable than a for loop in scenarios where the number of iterations required is unknown or dependent on dynamic conditions that may change during execution. A classic example is user input validation, where the program must repeatedly prompt the user until valid data is provided.\n",
    "\n",
    "Why a While Loop?\n",
    "\n",
    "1. Indefinite Iterations: The loop runs until the condition (valid) is met, regardless of how many attempts the user makes.\n",
    "\n",
    "2. Dynamic Condition: The termination depends on external input, which can’t be predetermined.\n",
    "\n",
    "3. Flexibility: A for loop would require guessing a maximum number of attempts (e.g., for _ in range(5):), which might force you to handle incomplete validation or unnecessary repetition.\n",
    "\n",
    "Use Cases:\n",
    "\n",
    "- Monitoring systems: Polling a sensor until a threshold (e.g., temperature) is reached.\n",
    "\n",
    "- Game loops: Running until a player loses or quits.\n",
    "\n",
    "- File/stream processing: Reading data until an end-of-file marker or specific token appears."
   ]
  },
  {
   "cell_type": "markdown",
   "id": "c34bf28d",
   "metadata": {},
   "source": [
    "# Practical Questions"
   ]
  },
  {
   "cell_type": "code",
   "execution_count": 1,
   "id": "8681e122",
   "metadata": {},
   "outputs": [
    {
     "name": "stdout",
     "output_type": "stream",
     "text": [
      "Hello, World!\n"
     ]
    }
   ],
   "source": [
    "# 1. Write a Python program to print \"Hello, World!\n",
    "\n",
    "\n",
    "print(\"Hello, World!\")\n"
   ]
  },
  {
   "cell_type": "code",
   "execution_count": 3,
   "id": "2ef39881",
   "metadata": {},
   "outputs": [
    {
     "name": "stdout",
     "output_type": "stream",
     "text": [
      "Enter your name: Abhijeet\n",
      "Enter your age: 35\n",
      "My name is Abhijeet\n",
      "I am 35 years old\n"
     ]
    }
   ],
   "source": [
    "# 2. Write a Python program that displays your name and age\n",
    "\n",
    "\n",
    "\n",
    "name = input(\"Enter your name: \")\n",
    "age = input(\"Enter your age: \")\n",
    "\n",
    "print(f\"My name is {name}\")\n",
    "print(f\"I am {age} years old\")\n"
   ]
  },
  {
   "cell_type": "code",
   "execution_count": 4,
   "id": "daf8c93f",
   "metadata": {},
   "outputs": [
    {
     "name": "stdout",
     "output_type": "stream",
     "text": [
      "Python Keywords:\n",
      "False\n",
      "None\n",
      "True\n",
      "__peg_parser__\n",
      "and\n",
      "as\n",
      "assert\n",
      "async\n",
      "await\n",
      "break\n",
      "class\n",
      "continue\n",
      "def\n",
      "del\n",
      "elif\n",
      "else\n",
      "except\n",
      "finally\n",
      "for\n",
      "from\n",
      "global\n",
      "if\n",
      "import\n",
      "in\n",
      "is\n",
      "lambda\n",
      "nonlocal\n",
      "not\n",
      "or\n",
      "pass\n",
      "raise\n",
      "return\n",
      "try\n",
      "while\n",
      "with\n",
      "yield\n"
     ]
    }
   ],
   "source": [
    "# 3. Write code to print all the pre-defined keywords in Python using the keyword library\n",
    "\n",
    "import keyword\n",
    "\n",
    "# Get the list of all Python keywords\n",
    "keywords = keyword.kwlist\n",
    "\n",
    "# Print the keywords\n",
    "print(\"Python Keywords:\")\n",
    "for kw in keywords:\n",
    "    print(kw)\n"
   ]
  },
  {
   "cell_type": "code",
   "execution_count": 5,
   "id": "08bc9263",
   "metadata": {},
   "outputs": [
    {
     "name": "stdout",
     "output_type": "stream",
     "text": [
      "Enter a word: in\n",
      "'in' is a Python keyword.\n"
     ]
    }
   ],
   "source": [
    "# 4. Write a program that checks if a given word is a Python keyword\n",
    "\n",
    "import keyword\n",
    "\n",
    "# Ask the user to enter a word\n",
    "word = input(\"Enter a word: \")\n",
    "\n",
    "# Check if it's a Python keyword\n",
    "if keyword.iskeyword(word):\n",
    "    print(f\"'{word}' is a Python keyword.\")\n",
    "else:\n",
    "    print(f\"'{word}' is NOT a Python keyword.\")"
   ]
  },
  {
   "cell_type": "code",
   "execution_count": 7,
   "id": "46e3c75d",
   "metadata": {},
   "outputs": [
    {
     "name": "stdout",
     "output_type": "stream",
     "text": [
      "Original list: [10, 20, 30]\n",
      "Original tuple: (10, 20, 30)\n",
      "\n",
      "Modified list: [25, 20, 30]\n",
      "\n",
      "Error when trying to modify tuple: 'tuple' object does not support item assignment\n"
     ]
    }
   ],
   "source": [
    "# 5. Create a list and tuple in Python, and demonstrate how attempting to change an element works differently for each.\n",
    "\n",
    "# Create a list and a tuple\n",
    "my_list = [10, 20, 30]\n",
    "my_tuple = (10, 20, 30)\n",
    "\n",
    "print(\"Original list:\", my_list)\n",
    "print(\"Original tuple:\", my_tuple)\n",
    "\n",
    "# Modify the list (works)\n",
    "my_list[0] = 25\n",
    "print(\"\\nModified list:\", my_list)\n",
    "\n",
    "# Attempt to modify the tuple (will raise an error)\n",
    "try:\n",
    "    my_tuple[0] = 25\n",
    "except TypeError as e:\n",
    "    print(\"\\nError when trying to modify tuple:\", e)"
   ]
  },
  {
   "cell_type": "code",
   "execution_count": 9,
   "id": "010bc2a1",
   "metadata": {},
   "outputs": [
    {
     "name": "stdout",
     "output_type": "stream",
     "text": [
      "Inside function:\n",
      "List: [1, 2, 3, 100]\n",
      "Number: 100\n",
      "\n",
      "Outside function:\n",
      "List: [1, 2, 3, 100]\n",
      "Number: 50\n"
     ]
    }
   ],
   "source": [
    "# 6. Write a function to demonstrate the behavior of mutable and immutable arguments.\n",
    "\n",
    "def modify_args(my_list, my_number):\n",
    "    # Modify the list (mutable)\n",
    "    my_list.append(100)\n",
    "    \n",
    "    # Modify the number (immutable)\n",
    "    my_number += 50\n",
    "\n",
    "    print(\"Inside function:\")\n",
    "    print(\"List:\", my_list)\n",
    "    print(\"Number:\", my_number)\n",
    "\n",
    "# Outside variables\n",
    "original_list = [1, 2, 3]\n",
    "original_number = 50\n",
    "\n",
    "# Call the function\n",
    "modify_args(original_list, original_number)\n",
    "\n",
    "print(\"\\nOutside function:\")\n",
    "print(\"List:\", original_list)\n",
    "print(\"Number:\", original_number)\n"
   ]
  },
  {
   "cell_type": "code",
   "execution_count": 10,
   "id": "53316843",
   "metadata": {},
   "outputs": [
    {
     "name": "stdout",
     "output_type": "stream",
     "text": [
      "Enter the first number: 100\n",
      "Enter the second number: 2\n",
      "\n",
      "Results:\n",
      "Addition: 100.0 + 2.0 = 102.0\n",
      "Subtraction: 100.0 - 2.0 = 98.0\n",
      "Multiplication: 100.0 * 2.0 = 200.0\n",
      "Division: 100.0 / 2.0 = 50.0\n"
     ]
    }
   ],
   "source": [
    "# 7. Write a program that performs basic arithmetic operations on two user-input numbers.\n",
    "\n",
    "# user input for two numbers\n",
    "num1 = float(input(\"Enter the first number: \"))\n",
    "num2 = float(input(\"Enter the second number: \"))\n",
    "\n",
    "# Perform the arithmetic operations\n",
    "sum_result = num1 + num2\n",
    "difference = num1 - num2\n",
    "product = num1 * num2\n",
    "if num2 != 0:\n",
    "    division = num1 / num2\n",
    "else:\n",
    "    division = \"undefined (cannot divide by zero)\"\n",
    "\n",
    "# Display the results\n",
    "print(f\"\\nResults:\")\n",
    "print(f\"Addition: {num1} + {num2} = {sum_result}\")\n",
    "print(f\"Subtraction: {num1} - {num2} = {difference}\")\n",
    "print(f\"Multiplication: {num1} * {num2} = {product}\")\n",
    "print(f\"Division: {num1} / {num2} = {division}\")\n"
   ]
  },
  {
   "cell_type": "code",
   "execution_count": 11,
   "id": "6f6c78b0",
   "metadata": {},
   "outputs": [
    {
     "name": "stdout",
     "output_type": "stream",
     "text": [
      "Enter the first number: 10\n",
      "Enter the second number: 20\n",
      "Both numbers are positive.\n",
      "At least one number is positive.\n",
      "The first number is not negative.\n"
     ]
    }
   ],
   "source": [
    "# 8.  Write a program to demonstrate the use of logical operators.\n",
    "\n",
    "# user input for two numbers\n",
    "num1 = int(input(\"Enter the first number: \"))\n",
    "num2 = int(input(\"Enter the second number: \"))\n",
    "\n",
    "# Using the 'and' logical operator\n",
    "if num1 > 0 and num2 > 0:\n",
    "    print(\"Both numbers are positive.\")\n",
    "\n",
    "# Using the 'or' logical operator\n",
    "if num1 > 0 or num2 > 0:\n",
    "    print(\"At least one number is positive.\")\n",
    "\n",
    "# Using the 'not' logical operator\n",
    "if not(num1 < 0):\n",
    "    print(\"The first number is not negative.\")\n"
   ]
  },
  {
   "cell_type": "code",
   "execution_count": 12,
   "id": "9241dab8",
   "metadata": {},
   "outputs": [
    {
     "name": "stdout",
     "output_type": "stream",
     "text": [
      "Enter a value: 75\n",
      "Integer: 75\n",
      "Float: 75.0\n",
      "Boolean: True\n"
     ]
    }
   ],
   "source": [
    "# 9.  Write a Python program to convert user input from string to integer, float, and boolean types\n",
    "\n",
    "# Take input from the user as a string\n",
    "input_value = input(\"Enter a value: \")\n",
    "\n",
    "# Convert to integer\n",
    "try:\n",
    "    converted_integer = int(input_value)\n",
    "    print(f\"Integer: {converted_integer}\")\n",
    "except ValueError:\n",
    "    print(\"Conversion to integer failed.\")\n",
    "\n",
    "# Convert to float\n",
    "try:\n",
    "    converted_float = float(input_value)\n",
    "    print(f\"Float: {converted_float}\")\n",
    "except ValueError:\n",
    "    print(\"Conversion to float failed.\")\n",
    "\n",
    "# Convert to boolean\n",
    "converted_boolean = bool(input_value)\n",
    "print(f\"Boolean: {converted_boolean}\")\n"
   ]
  },
  {
   "cell_type": "code",
   "execution_count": 13,
   "id": "b378ae37",
   "metadata": {},
   "outputs": [
    {
     "name": "stdout",
     "output_type": "stream",
     "text": [
      "List converted to integers: [12, 45, 78, 100, 67]\n",
      "List converted to floats: [12.0, 45.0, 78.9, 100.0, 67.0]\n",
      "Integers converted back to strings: ['12', '45', '78', '100', '67']\n"
     ]
    }
   ],
   "source": [
    "# 10. Write code to demonstrate type casting with list elements.\n",
    "\n",
    "# List containing numeric values as strings\n",
    "values_as_strings = ['12', '45', '78.9', '100.0', '67']\n",
    "\n",
    "# Casting to integer values (after converting to float first)\n",
    "converted_to_ints = [int(float(value)) for value in values_as_strings]\n",
    "print(\"List converted to integers:\", converted_to_ints)\n",
    "\n",
    "# Casting to float values\n",
    "converted_to_floats = [float(value) for value in values_as_strings]\n",
    "print(\"List converted to floats:\", converted_to_floats)\n",
    "\n",
    "# Casting back to string values\n",
    "converted_to_strings = [str(number) for number in converted_to_ints]\n",
    "print(\"Integers converted back to strings:\", converted_to_strings)\n"
   ]
  },
  {
   "cell_type": "code",
   "execution_count": 17,
   "id": "7e659668",
   "metadata": {},
   "outputs": [
    {
     "name": "stdout",
     "output_type": "stream",
     "text": [
      "Enter a number: -6\n",
      "The number is negative.\n"
     ]
    }
   ],
   "source": [
    "# 11. Write a program that checks if a number is positive, negative, or zero.\n",
    "\n",
    "# Get input from the user\n",
    "number = float(input(\"Enter a number: \"))\n",
    "\n",
    "# Check if the number is positive, negative, or zero\n",
    "if number > 0:\n",
    "    print(\"The number is positive.\")\n",
    "elif number < 0:\n",
    "    print(\"The number is negative.\")\n",
    "else:\n",
    "    print(\"The number is zero.\")\n"
   ]
  },
  {
   "cell_type": "code",
   "execution_count": 18,
   "id": "3b64e80e",
   "metadata": {},
   "outputs": [
    {
     "name": "stdout",
     "output_type": "stream",
     "text": [
      "1\n",
      "2\n",
      "3\n",
      "4\n",
      "5\n",
      "6\n",
      "7\n",
      "8\n",
      "9\n",
      "10\n"
     ]
    }
   ],
   "source": [
    "# 12 Write a for loop to print numbers from 1 to 10\n",
    "\n",
    "\n",
    "for n in range(1, 11):\n",
    "    print(n)\n"
   ]
  },
  {
   "cell_type": "code",
   "execution_count": 19,
   "id": "8d1f035f",
   "metadata": {},
   "outputs": [
    {
     "name": "stdout",
     "output_type": "stream",
     "text": [
      "Total sum of all even numbers between 1 and 50: 650\n"
     ]
    }
   ],
   "source": [
    "# 13. Write a Python program to find the sum of all even numbers between 1 and 50.\n",
    "\n",
    "# Initialize variable to accumulate the sum of even numbers\n",
    "total_even_sum = 0\n",
    "\n",
    "# Loop through numbers from 2 to 50 with step 2 to get even numbers directly\n",
    "for num in range(2, 51, 2):  # Starts at 2 and increments by 2\n",
    "    total_even_sum += num  # Add the current even number to the total sum\n",
    "\n",
    "# Output the result\n",
    "print(\"Total sum of all even numbers between 1 and 50:\", total_even_sum)\n"
   ]
  },
  {
   "cell_type": "code",
   "execution_count": 20,
   "id": "db8b8398",
   "metadata": {},
   "outputs": [
    {
     "name": "stdout",
     "output_type": "stream",
     "text": [
      "Please enter a string: python\n",
      "Reversed string is: nohtyp\n"
     ]
    }
   ],
   "source": [
    "# 14. Write a program to reverse a string using a while loop.\n",
    "\n",
    "# user for input\n",
    "original_string = input(\"Please enter a string: \")\n",
    "\n",
    "# Initialize an empty string to hold the reversed result\n",
    "reversed_output = \"\"\n",
    "\n",
    "# Set the index to the last character of the string\n",
    "position = len(original_string) - 1\n",
    "\n",
    "# Loop through the string in reverse order using a while loop\n",
    "while position >= 0:\n",
    "    reversed_output += original_string[position]  # Append character to the reversed string\n",
    "    position -= 1  # Move to the previous character\n",
    "\n",
    "# Display the reversed string\n",
    "print(\"Reversed string is:\", reversed_output)\n"
   ]
  },
  {
   "cell_type": "code",
   "execution_count": 21,
   "id": "218ba1d5",
   "metadata": {},
   "outputs": [
    {
     "name": "stdout",
     "output_type": "stream",
     "text": [
      "Enter a number: 5\n",
      "Factorial is: 120\n"
     ]
    }
   ],
   "source": [
    "# 15. Write a Python program to calculate the factorial of a number provided by the user using a while loop\n",
    "\n",
    "# Get input from the user\n",
    "number = int(input(\"Enter a number: \"))\n",
    "\n",
    "# Initialize the factorial result to 1\n",
    "fact = 1\n",
    "\n",
    "# Ensure the number is positive or zero\n",
    "if number < 0:\n",
    "    print(\"Factorial does not exist for negative numbers.\")\n",
    "else:\n",
    "    # Use a while loop to calculate the factorial\n",
    "    while number > 1:\n",
    "        fact *= number  # Multiply current factorial with the number\n",
    "        number -= 1  # Decrease the number by 1\n",
    "\n",
    "    # Output the result\n",
    "    print(\"Factorial is:\", fact)\n"
   ]
  }
 ],
 "metadata": {
  "kernelspec": {
   "display_name": "Python 3 (ipykernel)",
   "language": "python",
   "name": "python3"
  },
  "language_info": {
   "codemirror_mode": {
    "name": "ipython",
    "version": 3
   },
   "file_extension": ".py",
   "mimetype": "text/x-python",
   "name": "python",
   "nbconvert_exporter": "python",
   "pygments_lexer": "ipython3",
   "version": "3.9.7"
  }
 },
 "nbformat": 4,
 "nbformat_minor": 5
}
